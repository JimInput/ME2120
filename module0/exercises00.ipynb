{
 "cells": [
  {
   "cell_type": "markdown",
   "id": "ffec1374",
   "metadata": {},
   "source": [
    "1. The volume of a sphere with radius is $\\frac{4}{3}\\pi r^3$. What is the volume of a sphere with diameter 6.65 cm? For the value of $\\pi$ use 3.14159 (for now). Compare your answer with the solution up to 4 decimal numbers."
   ]
  },
  {
   "cell_type": "code",
   "execution_count": 5,
   "id": "b309bf69",
   "metadata": {},
   "outputs": [
    {
     "name": "stdout",
     "output_type": "stream",
     "text": [
      "V=153.9796\n"
     ]
    }
   ],
   "source": [
    "r = 6.65/2\n",
    "pi = 3.14159\n",
    "\n",
    "V = 4/3 * pi * r**3\n",
    "\n",
    "print(f\"V={V:.4f}\")"
   ]
  },
  {
   "cell_type": "markdown",
   "id": "4c5ccd1f",
   "metadata": {},
   "source": [
    "2. Suppose the cover price of a book is $\\$ 24.95$, but bookstores get a $40\\%$ discount. Shipping costs $\\$ 3$ for the first copy and $75$ cents for each additional copy. What is the total wholesale cost for $60$ copies? Compare your answer with the solution up to 2 decimal numbers."
   ]
  },
  {
   "cell_type": "code",
   "execution_count": 10,
   "id": "bae2bc17",
   "metadata": {},
   "outputs": [
    {
     "name": "stdout",
     "output_type": "stream",
     "text": [
      "Total=945.45\n"
     ]
    }
   ],
   "source": [
    "cover_price = 24.95\n",
    "bookstore_discount = 0.40\n",
    "initial_shipping = 3\n",
    "shipping_rate = 0.75\n",
    "n_copies = 60\n",
    "\n",
    "total = n_copies*cover_price*(1-bookstore_discount) + 3 + (n_copies-1)*shipping_rate\n",
    "\n",
    "print(f\"Total={total:.2f}\")"
   ]
  }
 ],
 "metadata": {
  "kernelspec": {
   "display_name": "Python 3",
   "language": "python",
   "name": "python3"
  },
  "language_info": {
   "codemirror_mode": {
    "name": "ipython",
    "version": 3
   },
   "file_extension": ".py",
   "mimetype": "text/x-python",
   "name": "python",
   "nbconvert_exporter": "python",
   "pygments_lexer": "ipython3",
   "version": "3.12.3"
  }
 },
 "nbformat": 4,
 "nbformat_minor": 5
}
